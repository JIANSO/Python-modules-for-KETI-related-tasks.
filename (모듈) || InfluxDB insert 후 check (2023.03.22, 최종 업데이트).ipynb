{
 "cells": [
  {
   "cell_type": "markdown",
   "id": "9d57726d",
   "metadata": {
    "ExecuteTime": {
     "end_time": "2023-02-24T07:58:19.116891Z",
     "start_time": "2023-02-24T07:58:19.113192Z"
    }
   },
   "source": [
    "# influxDB 데이터 확인\n",
    "(2023.03.22, 최종 업데이트)"
   ]
  },
  {
   "cell_type": "code",
   "execution_count": null,
   "id": "eb3a0610",
   "metadata": {
    "ExecuteTime": {
     "end_time": "2023-03-22T09:47:45.383577Z",
     "start_time": "2023-03-22T09:47:45.380175Z"
    }
   },
   "outputs": [],
   "source": [
    "## 1. 초기 세팅 및 DB 연결"
   ]
  },
  {
   "cell_type": "code",
   "execution_count": 1,
   "id": "d1bb557a",
   "metadata": {
    "ExecuteTime": {
     "end_time": "2023-04-05T06:15:47.117994Z",
     "start_time": "2023-04-05T06:15:46.849072Z"
    }
   },
   "outputs": [],
   "source": [
    "import pandas as pd\n",
    "import os #기타 운영 체제 인터페이스\n",
    "import sys #시스템 특정 파라미터와 함수\n",
    "sys.path.append(\"../\")\n",
    "sys.path.append(\"../..\") #path는 모듈의 검색 경로를 지정하는 문자열 리스트\n",
    "\n",
    "from pathlib import Path"
   ]
  },
  {
   "cell_type": "code",
   "execution_count": 2,
   "id": "e5955b4d",
   "metadata": {
    "ExecuteTime": {
     "end_time": "2023-04-05T06:15:47.271011Z",
     "start_time": "2023-04-05T06:15:47.152999Z"
    }
   },
   "outputs": [],
   "source": [
    "from Clust.setting import influx_setting_KETI as ins\n",
    "from influxdb_client.client.write_api import SYNCHRONOUS, ASYNCHRONOUS\n",
    "from influxdb_client import InfluxDBClient, Point, BucketsService, Bucket\n",
    "\n",
    "version = 2 # or 1\n",
    "\n",
    "if version == 1: \n",
    "    from Clust.clust.ingestion.influx import influx_client as influx_Client\n",
    "    dataServer = ins.CLUSTDataServer\n",
    "elif version == 2:\n",
    "    from Clust.clust.ingestion.influx import influx_client_v2 as influx_Client\n",
    "    dataServer = ins.CLUSTDataServer2\n",
    "    \n",
    "DBClient = influx_Client.InfluxClient(dataServer)"
   ]
  },
  {
   "cell_type": "code",
   "execution_count": 3,
   "id": "64d5bd80",
   "metadata": {
    "ExecuteTime": {
     "end_time": "2023-04-05T06:15:47.555023Z",
     "start_time": "2023-04-05T06:15:47.552658Z"
    }
   },
   "outputs": [],
   "source": [
    "## 2. 확인하고자 하는 bucket 값 입력"
   ]
  },
  {
   "cell_type": "code",
   "execution_count": 40,
   "id": "9ee130b5",
   "metadata": {
    "ExecuteTime": {
     "end_time": "2023-04-05T06:37:24.286481Z",
     "start_time": "2023-04-05T06:37:24.283801Z"
    }
   },
   "outputs": [],
   "source": [
    "#bk_name ='air_outdoor_jiantest'\n",
    "#bk_name = 'air_test_jian_0316'\n",
    "#bk_name ='air_outdoor_test_0321'\n",
    "#bk_name = 'air_outdoor_kweather'\n",
    "bk_name = 'air_indoor_고등학교'"
   ]
  },
  {
   "cell_type": "markdown",
   "id": "d7a94813",
   "metadata": {},
   "source": [
    "# 3. influxClient 함수 활용 part\n",
    "\n",
    "이 part는 전체 run하는 것보다, 개별 실행하는 것이 좋습니다.\n"
   ]
  },
  {
   "cell_type": "markdown",
   "id": "d22337ac",
   "metadata": {},
   "source": [
    "## (1) domain의 measurement list 확인"
   ]
  },
  {
   "cell_type": "code",
   "execution_count": 41,
   "id": "c28f2679",
   "metadata": {
    "ExecuteTime": {
     "end_time": "2023-04-05T06:37:25.100178Z",
     "start_time": "2023-04-05T06:37:25.032796Z"
    }
   },
   "outputs": [],
   "source": [
    "#함수 실행\n",
    "entries = DBClient.measurement_list(bk_name)"
   ]
  },
  {
   "cell_type": "code",
   "execution_count": 42,
   "id": "c9b4f932",
   "metadata": {
    "ExecuteTime": {
     "end_time": "2023-04-05T06:37:25.267417Z",
     "start_time": "2023-04-05T06:37:25.265160Z"
    }
   },
   "outputs": [],
   "source": [
    "one_ms_name = entries[0]\n",
    "#print(one_ms_name)\n",
    "#one_ms_name = 'ICW0W2000021'"
   ]
  },
  {
   "cell_type": "markdown",
   "id": "c6c99473",
   "metadata": {},
   "source": [
    "## (2) 해당 bucket 데이터 전체 확인"
   ]
  },
  {
   "cell_type": "code",
   "execution_count": 43,
   "id": "917f424d",
   "metadata": {
    "ExecuteTime": {
     "end_time": "2023-04-05T06:37:25.987748Z",
     "start_time": "2023-04-05T06:37:25.840411Z"
    }
   },
   "outputs": [
    {
     "name": "stdout",
     "output_type": "stream",
     "text": [
      "Index(['in_co2', 'in_humi', 'in_noise', 'in_pm01', 'in_pm10', 'in_pm25',\n",
      "       'in_temp', 'in_voc'],\n",
      "      dtype='object')\n"
     ]
    }
   ],
   "source": [
    "#함수 실행\n",
    "all_data = DBClient.get_data(bk_name, one_ms_name)\n",
    "print(all_data.columns)"
   ]
  },
  {
   "cell_type": "markdown",
   "id": "5291a470",
   "metadata": {
    "ExecuteTime": {
     "end_time": "2023-03-21T08:00:46.946876Z",
     "start_time": "2023-03-21T08:00:46.943863Z"
    }
   },
   "source": [
    " ## (3) 해당 bucket 데이터 시작 날짜 확인"
   ]
  },
  {
   "cell_type": "code",
   "execution_count": null,
   "id": "2b3dc994",
   "metadata": {
    "ExecuteTime": {
     "end_time": "2023-03-23T02:29:17.174348Z",
     "start_time": "2023-03-23T02:29:17.086785Z"
    }
   },
   "outputs": [],
   "source": [
    " #함수 실행\n",
    "data_first_time = DBClient.get_first_time(bk_name, one_ms_name)"
   ]
  },
  {
   "cell_type": "code",
   "execution_count": null,
   "id": "988809bc",
   "metadata": {
    "ExecuteTime": {
     "end_time": "2023-03-23T02:29:19.718457Z",
     "start_time": "2023-03-23T02:29:19.699313Z"
    }
   },
   "outputs": [],
   "source": []
  },
  {
   "cell_type": "markdown",
   "id": "eabbd9d2",
   "metadata": {},
   "source": [
    " ## (4) 해당 bucket 데이터 마지막 날짜 확인"
   ]
  },
  {
   "cell_type": "code",
   "execution_count": null,
   "id": "0400dc2b",
   "metadata": {
    "ExecuteTime": {
     "end_time": "2023-04-05T02:36:41.423801Z",
     "start_time": "2023-04-05T02:36:40.937157Z"
    }
   },
   "outputs": [],
   "source": [
    "#함수 실행\n",
    "#data_last_time = DBClient.get_last_time(bk_name, one_ms_name)\n",
    "print(data_last_time)\n",
    "\n",
    "for one_ms_name in entries : \n",
    "    data_last_time = DBClient.get_last_time(bk_name, one_ms_name)\n",
    "    print(data_last_time)\n"
   ]
  },
  {
   "cell_type": "markdown",
   "id": "9dcd2bea",
   "metadata": {},
   "source": [
    " ## (5) bucket 을 순회하며 데이터 확인"
   ]
  },
  {
   "cell_type": "code",
   "execution_count": null,
   "id": "9b677856",
   "metadata": {
    "ExecuteTime": {
     "end_time": "2023-03-22T09:49:23.628543Z",
     "start_time": "2023-03-22T09:48:23.409423Z"
    },
    "scrolled": true
   },
   "outputs": [],
   "source": [
    "for one_ms_name in entries :\n",
    "    \n",
    "    val = DBClient.get_first_time(bk_name, one_ms_name)\n",
    "    \n",
    "    print(\"==ms_name :: \", one_ms_name, \"==val ::\", val)"
   ]
  },
  {
   "cell_type": "code",
   "execution_count": null,
   "id": "d0660b49",
   "metadata": {
    "ExecuteTime": {
     "start_time": "2023-03-22T09:47:45.400Z"
    }
   },
   "outputs": [],
   "source": [
    "len(entries)"
   ]
  },
  {
   "cell_type": "code",
   "execution_count": null,
   "id": "ddacec88",
   "metadata": {
    "ExecuteTime": {
     "start_time": "2023-03-22T09:47:45.401Z"
    }
   },
   "outputs": [],
   "source": [
    "ICW0W2001476"
   ]
  }
 ],
 "metadata": {
  "kernelspec": {
   "display_name": "Python 3 (ipykernel)",
   "language": "python",
   "name": "python3"
  },
  "language_info": {
   "codemirror_mode": {
    "name": "ipython",
    "version": 3
   },
   "file_extension": ".py",
   "mimetype": "text/x-python",
   "name": "python",
   "nbconvert_exporter": "python",
   "pygments_lexer": "ipython3",
   "version": "3.9.12"
  },
  "toc": {
   "base_numbering": 1,
   "nav_menu": {},
   "number_sections": true,
   "sideBar": true,
   "skip_h1_title": false,
   "title_cell": "Table of Contents",
   "title_sidebar": "Contents",
   "toc_cell": false,
   "toc_position": {},
   "toc_section_display": true,
   "toc_window_display": false
  }
 },
 "nbformat": 4,
 "nbformat_minor": 5
}
