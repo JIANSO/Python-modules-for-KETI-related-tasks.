{
 "cells": [
  {
   "cell_type": "markdown",
   "id": "b437b270",
   "metadata": {},
   "source": [
    "# 케이웨더, 1970년대 데이터 삭제하는 모듈\n",
    "measurement 파일 자체가 1970년대 (불필요값) 데이터로 이루어져 있으면, \n",
    "이 모듈로 해당 measurement 파일 데이터는 DB에서 삭제되지 않는다."
   ]
  },
  {
   "cell_type": "markdown",
   "id": "00d72178",
   "metadata": {},
   "source": [
    "## 1. 초기 세팅 & DB 서버 연동"
   ]
  },
  {
   "cell_type": "code",
   "execution_count": 1,
   "id": "379e8f04",
   "metadata": {
    "ExecuteTime": {
     "end_time": "2023-04-05T05:58:55.431115Z",
     "start_time": "2023-04-05T05:58:55.142880Z"
    }
   },
   "outputs": [],
   "source": [
    "import pandas as pd\n",
    "import os #기타 운영 체제 인터페이스\n",
    "import sys #시스템 특정 파라미터와 함수\n",
    "from datetime import datetime\n",
    "sys.path.append(\"../\")\n",
    "sys.path.append(\"../..\") #path는 모듈의 검색 경로를 지정하는 문자열 리스트\n",
    "\n",
    "from pathlib import Path\n",
    "UTC_Style = '%Y-%m-%dT%H:%M:%SZ'"
   ]
  },
  {
   "cell_type": "code",
   "execution_count": 2,
   "id": "3d3b8c7b",
   "metadata": {
    "ExecuteTime": {
     "end_time": "2023-04-05T05:58:55.612449Z",
     "start_time": "2023-04-05T05:58:55.489722Z"
    }
   },
   "outputs": [],
   "source": [
    "from Clust.setting import influx_setting_KETI as ins\n",
    "from influxdb_client.client.write_api import SYNCHRONOUS, ASYNCHRONOUS\n",
    "from influxdb_client import InfluxDBClient, Point, BucketsService, Bucket\n",
    "\n",
    "version = 2 # or 1\n",
    "\n",
    "if version == 1: \n",
    "    from Clust.clust.ingestion.influx import influx_client as influx_Client\n",
    "    dataServer = ins.CLUSTDataServer\n",
    "elif version == 2:\n",
    "    from Clust.clust.ingestion.influx import influx_client_v2 as influx_Client\n",
    "    dataServer = ins.CLUSTDataServer2\n",
    "    \n",
    "InfluxClient = influx_Client.InfluxClient(dataServer)"
   ]
  },
  {
   "cell_type": "markdown",
   "id": "7739882e",
   "metadata": {},
   "source": [
    "## 2. 함수 구현"
   ]
  },
  {
   "cell_type": "code",
   "execution_count": 3,
   "id": "54dbee06",
   "metadata": {
    "ExecuteTime": {
     "end_time": "2023-04-05T05:58:59.163038Z",
     "start_time": "2023-04-05T05:58:59.156134Z"
    }
   },
   "outputs": [],
   "source": [
    "def drop_measurement_1970(bk_name, ms_name):   \n",
    "    start_time = '1969-01-01T00:00:00Z'\n",
    "    end_time = '2000-01-01T00:00:00Z'\n",
    "    delete_api = InfluxClient.DBClient.delete_api()\n",
    "    delete_api.delete(start_time, end_time, f'_measurement={ms_name}', bucket=bk_name, org = InfluxClient.influx_setting[\"org\"])\n",
    "    print(\"==== measurement 확인 완료 ::\", ms_name)"
   ]
  },
  {
   "cell_type": "markdown",
   "id": "2a1661be",
   "metadata": {},
   "source": [
    "# 3. 파라미터 세팅"
   ]
  },
  {
   "cell_type": "code",
   "execution_count": 4,
   "id": "009d824c",
   "metadata": {
    "ExecuteTime": {
     "end_time": "2023-04-05T05:59:00.421050Z",
     "start_time": "2023-04-05T05:59:00.359503Z"
    }
   },
   "outputs": [],
   "source": [
    "bk_name = 'air_indoor_고등학교'\n",
    "\n",
    "ms_list = InfluxClient.measurement_list(bk_name)"
   ]
  },
  {
   "cell_type": "code",
   "execution_count": 5,
   "id": "e78ca208",
   "metadata": {
    "ExecuteTime": {
     "end_time": "2023-04-05T05:59:00.834896Z",
     "start_time": "2023-04-05T05:59:00.827654Z"
    }
   },
   "outputs": [
    {
     "name": "stdout",
     "output_type": "stream",
     "text": [
      "['ICW0W2000138', 'ICW0W2000139', 'ICW0W2000140', 'ICW0W2000141', 'ICW0W2000142', 'ICW0W2000746', 'ICW0W2000749', 'ICW0W2001409', 'ICW0W2001410', 'ICW0W2001411', 'ICW0W2001412', 'ICW0W2001413', 'ICW0W2001414', 'ICW0W2001415', 'ICW0W2001416', 'ICW0W2001417', 'ICW0W2001418', 'ICW0W2001419', 'ICW0W2001420', 'ICW0W2001421', 'ICW0W2001422', 'ICW0W2001423', 'ICW0W2001424', 'ICW0W2001425', 'ICW0W2001426', 'ICW0W2001427', 'ICW0W2001428', 'ICW0W2001429', 'ICW0W2001430', 'ICW0W2001431', 'ICW0W2001432', 'ICW0W2001433', 'ICW0W2001434', 'ICW0W2001435', 'ICW0W2001436', 'ICW0W2001437', 'ICW0W2001438', 'ICW0W2001439', 'ICW0W2001440', 'ICW0W2001441', 'ICW0W2001442', 'ICW0W2001443', 'ICW0W2001444', 'ICW0W2001445', 'ICW0W2001446', 'ICW0W2001447', 'ICW0W2001449', 'ICW0W2001450', 'ICW0W2001451', 'ICW0W2001452', 'ICW0W2001453', 'ICW0W2001454', 'ICW0W2001455', 'ICW0W2001466', 'ICW0W2001467', 'ICW0W2001468', 'ICW0W2001469', 'ICW0W2001470', 'ICW0W2001471', 'ICW0W2001472', 'ICW0W2001473', 'ICW0W2001474', 'ICW0W2001475', 'ICW0W2001476', 'ICW0W2001477', 'ICW0W2001478', 'ICW0W2001479', 'IT2WW1900227', 'IT2WW1900379']\n"
     ]
    }
   ],
   "source": [
    "print(ms_list)"
   ]
  },
  {
   "cell_type": "markdown",
   "id": "82f2bcc3",
   "metadata": {},
   "source": [
    "# 4. 함수 실행"
   ]
  },
  {
   "cell_type": "code",
   "execution_count": 6,
   "id": "0f05324a",
   "metadata": {
    "ExecuteTime": {
     "end_time": "2023-04-05T05:59:43.679217Z",
     "start_time": "2023-04-05T05:59:06.598938Z"
    }
   },
   "outputs": [
    {
     "name": "stdout",
     "output_type": "stream",
     "text": [
      "==== measurement 확인 완료 :: ICW0W2000138\n",
      "==== measurement 확인 완료 :: ICW0W2000139\n",
      "==== measurement 확인 완료 :: ICW0W2000140\n",
      "==== measurement 확인 완료 :: ICW0W2000141\n",
      "==== measurement 확인 완료 :: ICW0W2000142\n",
      "==== measurement 확인 완료 :: ICW0W2000746\n",
      "==== measurement 확인 완료 :: ICW0W2000749\n",
      "==== measurement 확인 완료 :: ICW0W2001409\n",
      "==== measurement 확인 완료 :: ICW0W2001410\n",
      "==== measurement 확인 완료 :: ICW0W2001411\n",
      "==== measurement 확인 완료 :: ICW0W2001412\n",
      "==== measurement 확인 완료 :: ICW0W2001413\n",
      "==== measurement 확인 완료 :: ICW0W2001414\n",
      "==== measurement 확인 완료 :: ICW0W2001415\n",
      "==== measurement 확인 완료 :: ICW0W2001416\n",
      "==== measurement 확인 완료 :: ICW0W2001417\n",
      "==== measurement 확인 완료 :: ICW0W2001418\n",
      "==== measurement 확인 완료 :: ICW0W2001419\n",
      "==== measurement 확인 완료 :: ICW0W2001420\n",
      "==== measurement 확인 완료 :: ICW0W2001421\n",
      "==== measurement 확인 완료 :: ICW0W2001422\n",
      "==== measurement 확인 완료 :: ICW0W2001423\n",
      "==== measurement 확인 완료 :: ICW0W2001424\n",
      "==== measurement 확인 완료 :: ICW0W2001425\n",
      "==== measurement 확인 완료 :: ICW0W2001426\n",
      "==== measurement 확인 완료 :: ICW0W2001427\n",
      "==== measurement 확인 완료 :: ICW0W2001428\n",
      "==== measurement 확인 완료 :: ICW0W2001429\n",
      "==== measurement 확인 완료 :: ICW0W2001430\n",
      "==== measurement 확인 완료 :: ICW0W2001431\n",
      "==== measurement 확인 완료 :: ICW0W2001432\n",
      "==== measurement 확인 완료 :: ICW0W2001433\n",
      "==== measurement 확인 완료 :: ICW0W2001434\n",
      "==== measurement 확인 완료 :: ICW0W2001435\n",
      "==== measurement 확인 완료 :: ICW0W2001436\n",
      "==== measurement 확인 완료 :: ICW0W2001437\n",
      "==== measurement 확인 완료 :: ICW0W2001438\n",
      "==== measurement 확인 완료 :: ICW0W2001439\n",
      "==== measurement 확인 완료 :: ICW0W2001440\n",
      "==== measurement 확인 완료 :: ICW0W2001441\n",
      "==== measurement 확인 완료 :: ICW0W2001442\n",
      "==== measurement 확인 완료 :: ICW0W2001443\n",
      "==== measurement 확인 완료 :: ICW0W2001444\n",
      "==== measurement 확인 완료 :: ICW0W2001445\n",
      "==== measurement 확인 완료 :: ICW0W2001446\n",
      "==== measurement 확인 완료 :: ICW0W2001447\n",
      "==== measurement 확인 완료 :: ICW0W2001449\n",
      "==== measurement 확인 완료 :: ICW0W2001450\n",
      "==== measurement 확인 완료 :: ICW0W2001451\n",
      "==== measurement 확인 완료 :: ICW0W2001452\n",
      "==== measurement 확인 완료 :: ICW0W2001453\n",
      "==== measurement 확인 완료 :: ICW0W2001454\n",
      "==== measurement 확인 완료 :: ICW0W2001455\n",
      "==== measurement 확인 완료 :: ICW0W2001466\n",
      "==== measurement 확인 완료 :: ICW0W2001467\n",
      "==== measurement 확인 완료 :: ICW0W2001468\n",
      "==== measurement 확인 완료 :: ICW0W2001469\n",
      "==== measurement 확인 완료 :: ICW0W2001470\n",
      "==== measurement 확인 완료 :: ICW0W2001471\n",
      "==== measurement 확인 완료 :: ICW0W2001472\n",
      "==== measurement 확인 완료 :: ICW0W2001473\n",
      "==== measurement 확인 완료 :: ICW0W2001474\n",
      "==== measurement 확인 완료 :: ICW0W2001475\n",
      "==== measurement 확인 완료 :: ICW0W2001476\n",
      "==== measurement 확인 완료 :: ICW0W2001477\n",
      "==== measurement 확인 완료 :: ICW0W2001478\n",
      "==== measurement 확인 완료 :: ICW0W2001479\n",
      "==== measurement 확인 완료 :: IT2WW1900227\n",
      "==== measurement 확인 완료 :: IT2WW1900379\n"
     ]
    }
   ],
   "source": [
    "for ms_name in ms_list : \n",
    "    drop_measurement_1970(bk_name, ms_name)"
   ]
  },
  {
   "cell_type": "code",
   "execution_count": null,
   "id": "a341f62c",
   "metadata": {},
   "outputs": [],
   "source": []
  }
 ],
 "metadata": {
  "kernelspec": {
   "display_name": "Python 3 (ipykernel)",
   "language": "python",
   "name": "python3"
  },
  "language_info": {
   "codemirror_mode": {
    "name": "ipython",
    "version": 3
   },
   "file_extension": ".py",
   "mimetype": "text/x-python",
   "name": "python",
   "nbconvert_exporter": "python",
   "pygments_lexer": "ipython3",
   "version": "3.9.12"
  },
  "toc": {
   "base_numbering": 1,
   "nav_menu": {},
   "number_sections": true,
   "sideBar": true,
   "skip_h1_title": false,
   "title_cell": "Table of Contents",
   "title_sidebar": "Contents",
   "toc_cell": false,
   "toc_position": {},
   "toc_section_display": true,
   "toc_window_display": false
  }
 },
 "nbformat": 4,
 "nbformat_minor": 5
}
